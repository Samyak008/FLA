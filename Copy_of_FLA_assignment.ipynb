{
  "nbformat": 4,
  "nbformat_minor": 0,
  "metadata": {
    "colab": {
      "provenance": [],
      "gpuType": "T4",
      "include_colab_link": true
    },
    "kernelspec": {
      "name": "python3",
      "display_name": "Python 3"
    },
    "language_info": {
      "name": "python"
    },
    "accelerator": "GPU"
  },
  "cells": [
    {
      "cell_type": "markdown",
      "metadata": {
        "id": "view-in-github",
        "colab_type": "text"
      },
      "source": [
        "<a href=\"https://colab.research.google.com/github/Samyak008/FLA/blob/main/Copy_of_FLA_assignment.ipynb\" target=\"_parent\"><img src=\"https://colab.research.google.com/assets/colab-badge.svg\" alt=\"Open In Colab\"/></a>"
      ]
    },
    {
      "cell_type": "code",
      "source": [
        "from automata.fa.dfa import DFA\n",
        "import gradio as gr"
      ],
      "metadata": {
        "id": "17WD8PeVmcKx",
        "collapsed": true
      },
      "execution_count": null,
      "outputs": []
    },
    {
      "cell_type": "code",
      "source": [
        "!pip install automata-lib gradio"
      ],
      "metadata": {
        "colab": {
          "base_uri": "https://localhost:8080/"
        },
        "collapsed": true,
        "id": "onRhkah_4k87",
        "outputId": "ee83a810-14fb-4781-b7a7-afd49ff7b945"
      },
      "execution_count": null,
      "outputs": [
        {
          "output_type": "stream",
          "name": "stdout",
          "text": [
            "Requirement already satisfied: automata-lib in /usr/local/lib/python3.10/dist-packages (8.4.0)\n",
            "Requirement already satisfied: gradio in /usr/local/lib/python3.10/dist-packages (5.5.0)\n",
            "Requirement already satisfied: networkx>=2.6.2 in /usr/local/lib/python3.10/dist-packages (from automata-lib) (3.4.2)\n",
            "Requirement already satisfied: frozendict>=2.3.4 in /usr/local/lib/python3.10/dist-packages (from automata-lib) (2.4.6)\n",
            "Requirement already satisfied: typing-extensions>=4.5.0 in /usr/local/lib/python3.10/dist-packages (from automata-lib) (4.12.2)\n",
            "Requirement already satisfied: cached-method>=0.1.0 in /usr/local/lib/python3.10/dist-packages (from automata-lib) (0.1.0)\n",
            "Requirement already satisfied: aiofiles<24.0,>=22.0 in /usr/local/lib/python3.10/dist-packages (from gradio) (23.2.1)\n",
            "Requirement already satisfied: anyio<5.0,>=3.0 in /usr/local/lib/python3.10/dist-packages (from gradio) (3.7.1)\n",
            "Requirement already satisfied: fastapi<1.0,>=0.115.2 in /usr/local/lib/python3.10/dist-packages (from gradio) (0.115.4)\n",
            "Requirement already satisfied: ffmpy in /usr/local/lib/python3.10/dist-packages (from gradio) (0.4.0)\n",
            "Requirement already satisfied: gradio-client==1.4.2 in /usr/local/lib/python3.10/dist-packages (from gradio) (1.4.2)\n",
            "Requirement already satisfied: httpx>=0.24.1 in /usr/local/lib/python3.10/dist-packages (from gradio) (0.27.2)\n",
            "Requirement already satisfied: huggingface-hub>=0.25.1 in /usr/local/lib/python3.10/dist-packages (from gradio) (0.26.2)\n",
            "Requirement already satisfied: jinja2<4.0 in /usr/local/lib/python3.10/dist-packages (from gradio) (3.1.4)\n",
            "Requirement already satisfied: markupsafe~=2.0 in /usr/local/lib/python3.10/dist-packages (from gradio) (2.1.5)\n",
            "Requirement already satisfied: numpy<3.0,>=1.0 in /usr/local/lib/python3.10/dist-packages (from gradio) (1.26.4)\n",
            "Requirement already satisfied: orjson~=3.0 in /usr/local/lib/python3.10/dist-packages (from gradio) (3.10.10)\n",
            "Requirement already satisfied: packaging in /usr/local/lib/python3.10/dist-packages (from gradio) (24.1)\n",
            "Requirement already satisfied: pandas<3.0,>=1.0 in /usr/local/lib/python3.10/dist-packages (from gradio) (2.2.2)\n",
            "Requirement already satisfied: pillow<12.0,>=8.0 in /usr/local/lib/python3.10/dist-packages (from gradio) (10.4.0)\n",
            "Requirement already satisfied: pydantic>=2.0 in /usr/local/lib/python3.10/dist-packages (from gradio) (2.9.2)\n",
            "Requirement already satisfied: pydub in /usr/local/lib/python3.10/dist-packages (from gradio) (0.25.1)\n",
            "Requirement already satisfied: python-multipart==0.0.12 in /usr/local/lib/python3.10/dist-packages (from gradio) (0.0.12)\n",
            "Requirement already satisfied: pyyaml<7.0,>=5.0 in /usr/local/lib/python3.10/dist-packages (from gradio) (6.0.2)\n",
            "Requirement already satisfied: ruff>=0.2.2 in /usr/local/lib/python3.10/dist-packages (from gradio) (0.7.3)\n",
            "Requirement already satisfied: safehttpx<1.0,>=0.1.1 in /usr/local/lib/python3.10/dist-packages (from gradio) (0.1.1)\n",
            "Requirement already satisfied: semantic-version~=2.0 in /usr/local/lib/python3.10/dist-packages (from gradio) (2.10.0)\n",
            "Requirement already satisfied: starlette<1.0,>=0.40.0 in /usr/local/lib/python3.10/dist-packages (from gradio) (0.41.2)\n",
            "Requirement already satisfied: tomlkit==0.12.0 in /usr/local/lib/python3.10/dist-packages (from gradio) (0.12.0)\n",
            "Requirement already satisfied: typer<1.0,>=0.12 in /usr/local/lib/python3.10/dist-packages (from gradio) (0.12.5)\n",
            "Requirement already satisfied: uvicorn>=0.14.0 in /usr/local/lib/python3.10/dist-packages (from gradio) (0.32.0)\n",
            "Requirement already satisfied: fsspec in /usr/local/lib/python3.10/dist-packages (from gradio-client==1.4.2->gradio) (2024.10.0)\n",
            "Requirement already satisfied: websockets<13.0,>=10.0 in /usr/local/lib/python3.10/dist-packages (from gradio-client==1.4.2->gradio) (12.0)\n",
            "Requirement already satisfied: idna>=2.8 in /usr/local/lib/python3.10/dist-packages (from anyio<5.0,>=3.0->gradio) (3.10)\n",
            "Requirement already satisfied: sniffio>=1.1 in /usr/local/lib/python3.10/dist-packages (from anyio<5.0,>=3.0->gradio) (1.3.1)\n",
            "Requirement already satisfied: exceptiongroup in /usr/local/lib/python3.10/dist-packages (from anyio<5.0,>=3.0->gradio) (1.2.2)\n",
            "Requirement already satisfied: certifi in /usr/local/lib/python3.10/dist-packages (from httpx>=0.24.1->gradio) (2024.8.30)\n",
            "Requirement already satisfied: httpcore==1.* in /usr/local/lib/python3.10/dist-packages (from httpx>=0.24.1->gradio) (1.0.6)\n",
            "Requirement already satisfied: h11<0.15,>=0.13 in /usr/local/lib/python3.10/dist-packages (from httpcore==1.*->httpx>=0.24.1->gradio) (0.14.0)\n",
            "Requirement already satisfied: filelock in /usr/local/lib/python3.10/dist-packages (from huggingface-hub>=0.25.1->gradio) (3.16.1)\n",
            "Requirement already satisfied: requests in /usr/local/lib/python3.10/dist-packages (from huggingface-hub>=0.25.1->gradio) (2.32.3)\n",
            "Requirement already satisfied: tqdm>=4.42.1 in /usr/local/lib/python3.10/dist-packages (from huggingface-hub>=0.25.1->gradio) (4.66.6)\n",
            "Requirement already satisfied: python-dateutil>=2.8.2 in /usr/local/lib/python3.10/dist-packages (from pandas<3.0,>=1.0->gradio) (2.8.2)\n",
            "Requirement already satisfied: pytz>=2020.1 in /usr/local/lib/python3.10/dist-packages (from pandas<3.0,>=1.0->gradio) (2024.2)\n",
            "Requirement already satisfied: tzdata>=2022.7 in /usr/local/lib/python3.10/dist-packages (from pandas<3.0,>=1.0->gradio) (2024.2)\n",
            "Requirement already satisfied: annotated-types>=0.6.0 in /usr/local/lib/python3.10/dist-packages (from pydantic>=2.0->gradio) (0.7.0)\n",
            "Requirement already satisfied: pydantic-core==2.23.4 in /usr/local/lib/python3.10/dist-packages (from pydantic>=2.0->gradio) (2.23.4)\n",
            "Requirement already satisfied: click>=8.0.0 in /usr/local/lib/python3.10/dist-packages (from typer<1.0,>=0.12->gradio) (8.1.7)\n",
            "Requirement already satisfied: shellingham>=1.3.0 in /usr/local/lib/python3.10/dist-packages (from typer<1.0,>=0.12->gradio) (1.5.4)\n",
            "Requirement already satisfied: rich>=10.11.0 in /usr/local/lib/python3.10/dist-packages (from typer<1.0,>=0.12->gradio) (13.9.3)\n",
            "Requirement already satisfied: six>=1.5 in /usr/local/lib/python3.10/dist-packages (from python-dateutil>=2.8.2->pandas<3.0,>=1.0->gradio) (1.16.0)\n",
            "Requirement already satisfied: markdown-it-py>=2.2.0 in /usr/local/lib/python3.10/dist-packages (from rich>=10.11.0->typer<1.0,>=0.12->gradio) (3.0.0)\n",
            "Requirement already satisfied: pygments<3.0.0,>=2.13.0 in /usr/local/lib/python3.10/dist-packages (from rich>=10.11.0->typer<1.0,>=0.12->gradio) (2.18.0)\n",
            "Requirement already satisfied: charset-normalizer<4,>=2 in /usr/local/lib/python3.10/dist-packages (from requests->huggingface-hub>=0.25.1->gradio) (3.4.0)\n",
            "Requirement already satisfied: urllib3<3,>=1.21.1 in /usr/local/lib/python3.10/dist-packages (from requests->huggingface-hub>=0.25.1->gradio) (2.2.3)\n",
            "Requirement already satisfied: mdurl~=0.1 in /usr/local/lib/python3.10/dist-packages (from markdown-it-py>=2.2.0->rich>=10.11.0->typer<1.0,>=0.12->gradio) (0.1.2)\n"
          ]
        }
      ]
    },
    {
      "cell_type": "code",
      "source": [
        "# Define DFA 1\n",
        "dfa1 = DFA(\n",
        "    states={'q0', 'q1', 'q2'},\n",
        "    input_symbols={'a', 'b'},\n",
        "    transitions={\n",
        "        'q0': {'a': 'q1', 'b': 'q0'},\n",
        "        'q1': {'a': 'q0', 'b': 'q2'},\n",
        "        'q2': {'a': 'q2', 'b': 'q1'}\n",
        "    },\n",
        "    initial_state='q0',\n",
        "    final_states={'q2'}\n",
        ")\n",
        "\n",
        "# Define DFA 2\n",
        "dfa2 = DFA(\n",
        "    states={'s0', 's1', 's2'},\n",
        "    input_symbols={'x', 'y'},\n",
        "    transitions={\n",
        "        's0': {'x': 's1', 'y': 's0'},\n",
        "        's1': {'x': 's0', 'y': 's2'},\n",
        "        's2': {'x': 's2', 'y': 's1'}\n",
        "    },\n",
        "    initial_state='s0',\n",
        "    final_states={'s2'}\n",
        ")\n",
        "\n",
        "# Define DFA 3\n",
        "dfa3 = DFA(\n",
        "    states={'p0', 'p1', 'p2'},\n",
        "    input_symbols={'c', 'd'},\n",
        "    transitions={\n",
        "        'p0': {'c': 'p1', 'd': 'p0'},\n",
        "        'p1': {'c': 'p0', 'd': 'p2'},\n",
        "        'p2': {'c': 'p2', 'd': 'p1'}\n",
        "    },\n",
        "    initial_state='p0',\n",
        "    final_states={'p2'}\n",
        ")\n"
      ],
      "metadata": {
        "id": "TU9EdAlUjNx2"
      },
      "execution_count": null,
      "outputs": []
    },
    {
      "cell_type": "code",
      "source": [
        "def validate_string(input_string, question):\n",
        "    if question == \"contain 'abc'\":\n",
        "        result = dfa1.accepts_input(input_string)\n",
        "        transitions = [f\"Current state: {dfa1.current_state}\"]\n",
        "        for char in input_string:\n",
        "            new_state = dfa1.read_input_symbol(char)\n",
        "            transitions.append(f\"Input: {char}, Next State: {new_state}\")\n",
        "    elif question == \"Ending 'xy'\":\n",
        "        result = dfa2.accepts_input(input_string[::-1])\n",
        "        transitions = [f\"Current state: {dfa2.current_state}\"]\n",
        "        for char in input_string[::-1]:\n",
        "            new_state = dfa2.read_input_symbol(char)\n",
        "            transitions.append(f\"Input: {char}, Next State: {new_state}\")\n",
        "    elif question == \"contain 'cd'\":\n",
        "        result = dfa3.accepts_input(input_string)\n",
        "        transitions = [f\"Current state: {dfa3.current_state}\"]\n",
        "        for char in input_string:\n",
        "            new_state = dfa3.read_input_symbol(char)\n",
        "            transitions.append(f\"Input: {char}, Next State: {new_state}\")\n",
        "    else:\n",
        "        result = False\n",
        "        transitions = []\n",
        "\n",
        "    return f\"Valid: {result}\", \"\\n\".join(transitions)"
      ],
      "metadata": {
        "id": "nd1cKcWS3Hbp"
      },
      "execution_count": null,
      "outputs": []
    },
    {
      "cell_type": "code",
      "source": [
        "def main():\n",
        "    with gr.Blocks() as demo:\n",
        "        with gr.Row():\n",
        "            input_string = gr.Textbox(label=\"Enter String\")\n",
        "\n",
        "        with gr.Row():\n",
        "            question = gr.Radio(choices=[\"contain 'abc'\", \"Ending 'xy'\", \"contain 'cd'\"], label=\"Select Question\")\n",
        "\n",
        "        output_text = gr.Textbox(label=\"Validation Result\", interactive=False)\n",
        "        step_transitions = gr.Textbox(label=\"Step-by-Step Transitions\", interactive=False)\n",
        "\n",
        "        with gr.Row():\n",
        "            validate_button = gr.Button(\"Validate\")\n",
        "\n",
        "        validate_button.click(\n",
        "            fn=validate_string,\n",
        "            inputs=[input_string, question],\n",
        "            outputs=[output_text, step_transitions]\n",
        "        )\n",
        "\n",
        "    demo.launch()\n",
        "\n",
        "if __name__ == \"__main__\":\n",
        "    main()"
      ],
      "metadata": {
        "id": "ukMPLU0V9M9o",
        "outputId": "24abacfa-f6dc-4ec8-8412-4160548ef42e",
        "colab": {
          "base_uri": "https://localhost:8080/",
          "height": 626
        }
      },
      "execution_count": null,
      "outputs": [
        {
          "output_type": "stream",
          "name": "stdout",
          "text": [
            "Running Gradio in a Colab notebook requires sharing enabled. Automatically setting `share=True` (you can turn this off by setting `share=False` in `launch()` explicitly).\n",
            "\n",
            "Colab notebook detected. To show errors in colab notebook, set debug=True in launch()\n",
            "* Running on public URL: https://aef84471333a55a596.gradio.live\n",
            "\n",
            "This share link expires in 72 hours. For free permanent hosting and GPU upgrades, run `gradio deploy` from the terminal in the working directory to deploy to Hugging Face Spaces (https://huggingface.co/spaces)\n"
          ]
        },
        {
          "output_type": "display_data",
          "data": {
            "text/plain": [
              "<IPython.core.display.HTML object>"
            ],
            "text/html": [
              "<div><iframe src=\"https://aef84471333a55a596.gradio.live\" width=\"100%\" height=\"500\" allow=\"autoplay; camera; microphone; clipboard-read; clipboard-write;\" frameborder=\"0\" allowfullscreen></iframe></div>"
            ]
          },
          "metadata": {}
        }
      ]
    },
    {
      "cell_type": "code",
      "source": [
        "!pip install gradio\n",
        "import gradio as gr\n",
        "\n",
        "class DFA:\n",
        "    def __init__(self, states, input_symbols, transitions, initial_state, final_states):\n",
        "        self.states = states\n",
        "        self.input_symbols = input_symbols\n",
        "        self.transitions = transitions\n",
        "        self.initial_state = initial_state\n",
        "        self.final_states = final_states\n",
        "\n",
        "def validate_dfa(input_string, question):\n",
        "    # Define DFAs for different patterns\n",
        "    dfa_definitions = {\n",
        "        \"contain '1100'\": DFA(\n",
        "            states={'q0', 'q1', 'q2', 'q3', 'q4'},\n",
        "            input_symbols={'0', '1'},\n",
        "            transitions={\n",
        "                'q0': {'1': 'q1', '0': 'q0'},\n",
        "                'q1': {'1': 'q2', '0': 'q0'},\n",
        "                'q2': {'1': 'q2', '0': 'q3'},\n",
        "                'q3': {'0': 'q4', '1': 'q0'},\n",
        "                'q4': {'0': 'q4', '1': 'q4'}\n",
        "            },\n",
        "            initial_state='q0',\n",
        "            final_states={'q4'}\n",
        "        ),\n",
        "        \"Ending '00'\": DFA(\n",
        "            states={'q0', 'q1', 'q2'},\n",
        "            input_symbols={'0', '1'},\n",
        "            transitions={\n",
        "                'q0': {'0': 'q1', '1': 'q0'},\n",
        "                'q1': {'0': 'q2', '1': 'q0'},\n",
        "                'q2': {'0': 'q2', '1': 'q0'}\n",
        "            },\n",
        "            initial_state='q0',\n",
        "            final_states={'q2'}\n",
        "        ),\n",
        "        \"contain 'a'\": DFA(\n",
        "            states={'q0', 'q1'},\n",
        "            input_symbols={'a', 'b'},\n",
        "            transitions={\n",
        "                'q0': {'a': 'q1', 'b': 'q0'},\n",
        "                'q1': {'a': 'q1', 'b': 'q1'}\n",
        "            },\n",
        "            initial_state='q0',\n",
        "            final_states={'q1'}\n",
        "        )\n",
        "    }\n",
        "\n",
        "    if question not in dfa_definitions:\n",
        "        return \"Invalid Selection\"\n",
        "\n",
        "    dfa = dfa_definitions[question]\n",
        "    current_state = dfa.initial_state\n",
        "    steps = [f\"Start at initial state: {current_state}\"]\n",
        "\n",
        "    try:\n",
        "        for symbol in input_string:\n",
        "            if symbol not in dfa.input_symbols:\n",
        "                return f\"Invalid input symbol '{symbol}' for DFA.\"\n",
        "\n",
        "            if symbol not in dfa.transitions[current_state]:\n",
        "                return f\"No transition defined for state '{current_state}' with input '{symbol}'\"\n",
        "\n",
        "            next_state = dfa.transitions[current_state][symbol]\n",
        "            steps.append(f\"Input: '{symbol}' -> Transition: {current_state} -> {next_state}\")\n",
        "            current_state = next_state\n",
        "\n",
        "        # Check final state\n",
        "        is_accepted = current_state in dfa.final_states\n",
        "        result = \"Valid String\" if is_accepted else \"Invalid String\"\n",
        "        steps.append(f\"End in {'final' if is_accepted else 'non-final'} state: {current_state} ({result})\")\n",
        "\n",
        "        return \"\\n\".join(steps) + f\"\\n\\nResult: {result}\"\n",
        "\n",
        "    except Exception as e:\n",
        "        return f\"Error processing input: {str(e)}\"\n",
        "\n",
        "def create_dfa_interface():\n",
        "    interface = gr.Interface(\n",
        "        fn=validate_dfa,\n",
        "        inputs=[\n",
        "            gr.Textbox(label=\"Enter a string to validate\"),\n",
        "            gr.Dropdown(\n",
        "                label=\"Select Pattern to Check\",\n",
        "                choices=[\"contain '1100'\", \"Ending '00'\", \"contain 'a'\"],\n",
        "                value=\"contain '1100'\"\n",
        "            )\n",
        "        ],\n",
        "        outputs=gr.Textbox(label=\"Validation Result\"),\n",
        "        title=\"DFA String Validator\",\n",
        "        description=\"Enter a string and select a pattern to check if it matches the specified DFA.\",\n",
        "        examples=[\n",
        "            [\"11001\", \"contain '1100'\"],\n",
        "            [\"1010100\", \"Ending '00'\"],\n",
        "            [\"babaa\", \"contain 'a'\"]\n",
        "        ]\n",
        "    )\n",
        "    return interface\n",
        "\n",
        "if __name__ == \"__main__\":\n",
        "    interface = create_dfa_interface()\n",
        "    interface.launch()"
      ],
      "metadata": {
        "id": "VsUcdic_9P92",
        "outputId": "c8ae5027-3885-40fc-bd95-72da724079fc",
        "colab": {
          "base_uri": "https://localhost:8080/",
          "height": 1000
        }
      },
      "execution_count": null,
      "outputs": [
        {
          "output_type": "stream",
          "name": "stdout",
          "text": [
            "Requirement already satisfied: gradio in /usr/local/lib/python3.10/dist-packages (5.5.0)\n",
            "Requirement already satisfied: aiofiles<24.0,>=22.0 in /usr/local/lib/python3.10/dist-packages (from gradio) (23.2.1)\n",
            "Requirement already satisfied: anyio<5.0,>=3.0 in /usr/local/lib/python3.10/dist-packages (from gradio) (3.7.1)\n",
            "Requirement already satisfied: fastapi<1.0,>=0.115.2 in /usr/local/lib/python3.10/dist-packages (from gradio) (0.115.4)\n",
            "Requirement already satisfied: ffmpy in /usr/local/lib/python3.10/dist-packages (from gradio) (0.4.0)\n",
            "Requirement already satisfied: gradio-client==1.4.2 in /usr/local/lib/python3.10/dist-packages (from gradio) (1.4.2)\n",
            "Requirement already satisfied: httpx>=0.24.1 in /usr/local/lib/python3.10/dist-packages (from gradio) (0.27.2)\n",
            "Requirement already satisfied: huggingface-hub>=0.25.1 in /usr/local/lib/python3.10/dist-packages (from gradio) (0.26.2)\n",
            "Requirement already satisfied: jinja2<4.0 in /usr/local/lib/python3.10/dist-packages (from gradio) (3.1.4)\n",
            "Requirement already satisfied: markupsafe~=2.0 in /usr/local/lib/python3.10/dist-packages (from gradio) (2.1.5)\n",
            "Requirement already satisfied: numpy<3.0,>=1.0 in /usr/local/lib/python3.10/dist-packages (from gradio) (1.26.4)\n",
            "Requirement already satisfied: orjson~=3.0 in /usr/local/lib/python3.10/dist-packages (from gradio) (3.10.10)\n",
            "Requirement already satisfied: packaging in /usr/local/lib/python3.10/dist-packages (from gradio) (24.1)\n",
            "Requirement already satisfied: pandas<3.0,>=1.0 in /usr/local/lib/python3.10/dist-packages (from gradio) (2.2.2)\n",
            "Requirement already satisfied: pillow<12.0,>=8.0 in /usr/local/lib/python3.10/dist-packages (from gradio) (10.4.0)\n",
            "Requirement already satisfied: pydantic>=2.0 in /usr/local/lib/python3.10/dist-packages (from gradio) (2.9.2)\n",
            "Requirement already satisfied: pydub in /usr/local/lib/python3.10/dist-packages (from gradio) (0.25.1)\n",
            "Requirement already satisfied: python-multipart==0.0.12 in /usr/local/lib/python3.10/dist-packages (from gradio) (0.0.12)\n",
            "Requirement already satisfied: pyyaml<7.0,>=5.0 in /usr/local/lib/python3.10/dist-packages (from gradio) (6.0.2)\n",
            "Requirement already satisfied: ruff>=0.2.2 in /usr/local/lib/python3.10/dist-packages (from gradio) (0.7.3)\n",
            "Requirement already satisfied: safehttpx<1.0,>=0.1.1 in /usr/local/lib/python3.10/dist-packages (from gradio) (0.1.1)\n",
            "Requirement already satisfied: semantic-version~=2.0 in /usr/local/lib/python3.10/dist-packages (from gradio) (2.10.0)\n",
            "Requirement already satisfied: starlette<1.0,>=0.40.0 in /usr/local/lib/python3.10/dist-packages (from gradio) (0.41.2)\n",
            "Requirement already satisfied: tomlkit==0.12.0 in /usr/local/lib/python3.10/dist-packages (from gradio) (0.12.0)\n",
            "Requirement already satisfied: typer<1.0,>=0.12 in /usr/local/lib/python3.10/dist-packages (from gradio) (0.12.5)\n",
            "Requirement already satisfied: typing-extensions~=4.0 in /usr/local/lib/python3.10/dist-packages (from gradio) (4.12.2)\n",
            "Requirement already satisfied: uvicorn>=0.14.0 in /usr/local/lib/python3.10/dist-packages (from gradio) (0.32.0)\n",
            "Requirement already satisfied: fsspec in /usr/local/lib/python3.10/dist-packages (from gradio-client==1.4.2->gradio) (2024.10.0)\n",
            "Requirement already satisfied: websockets<13.0,>=10.0 in /usr/local/lib/python3.10/dist-packages (from gradio-client==1.4.2->gradio) (12.0)\n",
            "Requirement already satisfied: idna>=2.8 in /usr/local/lib/python3.10/dist-packages (from anyio<5.0,>=3.0->gradio) (3.10)\n",
            "Requirement already satisfied: sniffio>=1.1 in /usr/local/lib/python3.10/dist-packages (from anyio<5.0,>=3.0->gradio) (1.3.1)\n",
            "Requirement already satisfied: exceptiongroup in /usr/local/lib/python3.10/dist-packages (from anyio<5.0,>=3.0->gradio) (1.2.2)\n",
            "Requirement already satisfied: certifi in /usr/local/lib/python3.10/dist-packages (from httpx>=0.24.1->gradio) (2024.8.30)\n",
            "Requirement already satisfied: httpcore==1.* in /usr/local/lib/python3.10/dist-packages (from httpx>=0.24.1->gradio) (1.0.6)\n",
            "Requirement already satisfied: h11<0.15,>=0.13 in /usr/local/lib/python3.10/dist-packages (from httpcore==1.*->httpx>=0.24.1->gradio) (0.14.0)\n",
            "Requirement already satisfied: filelock in /usr/local/lib/python3.10/dist-packages (from huggingface-hub>=0.25.1->gradio) (3.16.1)\n",
            "Requirement already satisfied: requests in /usr/local/lib/python3.10/dist-packages (from huggingface-hub>=0.25.1->gradio) (2.32.3)\n",
            "Requirement already satisfied: tqdm>=4.42.1 in /usr/local/lib/python3.10/dist-packages (from huggingface-hub>=0.25.1->gradio) (4.66.6)\n",
            "Requirement already satisfied: python-dateutil>=2.8.2 in /usr/local/lib/python3.10/dist-packages (from pandas<3.0,>=1.0->gradio) (2.8.2)\n",
            "Requirement already satisfied: pytz>=2020.1 in /usr/local/lib/python3.10/dist-packages (from pandas<3.0,>=1.0->gradio) (2024.2)\n",
            "Requirement already satisfied: tzdata>=2022.7 in /usr/local/lib/python3.10/dist-packages (from pandas<3.0,>=1.0->gradio) (2024.2)\n",
            "Requirement already satisfied: annotated-types>=0.6.0 in /usr/local/lib/python3.10/dist-packages (from pydantic>=2.0->gradio) (0.7.0)\n",
            "Requirement already satisfied: pydantic-core==2.23.4 in /usr/local/lib/python3.10/dist-packages (from pydantic>=2.0->gradio) (2.23.4)\n",
            "Requirement already satisfied: click>=8.0.0 in /usr/local/lib/python3.10/dist-packages (from typer<1.0,>=0.12->gradio) (8.1.7)\n",
            "Requirement already satisfied: shellingham>=1.3.0 in /usr/local/lib/python3.10/dist-packages (from typer<1.0,>=0.12->gradio) (1.5.4)\n",
            "Requirement already satisfied: rich>=10.11.0 in /usr/local/lib/python3.10/dist-packages (from typer<1.0,>=0.12->gradio) (13.9.3)\n",
            "Requirement already satisfied: six>=1.5 in /usr/local/lib/python3.10/dist-packages (from python-dateutil>=2.8.2->pandas<3.0,>=1.0->gradio) (1.16.0)\n",
            "Requirement already satisfied: markdown-it-py>=2.2.0 in /usr/local/lib/python3.10/dist-packages (from rich>=10.11.0->typer<1.0,>=0.12->gradio) (3.0.0)\n",
            "Requirement already satisfied: pygments<3.0.0,>=2.13.0 in /usr/local/lib/python3.10/dist-packages (from rich>=10.11.0->typer<1.0,>=0.12->gradio) (2.18.0)\n",
            "Requirement already satisfied: charset-normalizer<4,>=2 in /usr/local/lib/python3.10/dist-packages (from requests->huggingface-hub>=0.25.1->gradio) (3.4.0)\n",
            "Requirement already satisfied: urllib3<3,>=1.21.1 in /usr/local/lib/python3.10/dist-packages (from requests->huggingface-hub>=0.25.1->gradio) (2.2.3)\n",
            "Requirement already satisfied: mdurl~=0.1 in /usr/local/lib/python3.10/dist-packages (from markdown-it-py>=2.2.0->rich>=10.11.0->typer<1.0,>=0.12->gradio) (0.1.2)\n",
            "Running Gradio in a Colab notebook requires sharing enabled. Automatically setting `share=True` (you can turn this off by setting `share=False` in `launch()` explicitly).\n",
            "\n",
            "Colab notebook detected. To show errors in colab notebook, set debug=True in launch()\n",
            "* Running on public URL: https://c68e5166e479a1719f.gradio.live\n",
            "\n",
            "This share link expires in 72 hours. For free permanent hosting and GPU upgrades, run `gradio deploy` from the terminal in the working directory to deploy to Hugging Face Spaces (https://huggingface.co/spaces)\n"
          ]
        },
        {
          "output_type": "display_data",
          "data": {
            "text/plain": [
              "<IPython.core.display.HTML object>"
            ],
            "text/html": [
              "<div><iframe src=\"https://c68e5166e479a1719f.gradio.live\" width=\"100%\" height=\"500\" allow=\"autoplay; camera; microphone; clipboard-read; clipboard-write;\" frameborder=\"0\" allowfullscreen></iframe></div>"
            ]
          },
          "metadata": {}
        }
      ]
    },
    {
      "cell_type": "code",
      "source": [],
      "metadata": {
        "id": "QLy-S4UGBcYr"
      },
      "execution_count": null,
      "outputs": []
    }
  ]
}